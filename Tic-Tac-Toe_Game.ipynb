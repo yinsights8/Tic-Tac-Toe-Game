{
 "cells": [
  {
   "cell_type": "code",
   "execution_count": 84,
   "id": "993bccd1",
   "metadata": {},
   "outputs": [],
   "source": [
    "from IPython.display import clear_output"
   ]
  },
  {
   "cell_type": "code",
   "execution_count": 85,
   "id": "b15bde78",
   "metadata": {},
   "outputs": [],
   "source": [
    "def display_board(board):\n",
    "    clear_output()\n",
    "    print(board[7]+(' | ') + board[8]+(' | ')+board[9])\n",
    "    print('--|---|--')\n",
    "    print(board[4]+(' | ') + board[5]+(' | ')+board[6])\n",
    "    print('--|---|--')\n",
    "    print(board[1]+(' | ') + board[2]+(' | ')+board[3])"
   ]
  },
  {
   "cell_type": "code",
   "execution_count": 86,
   "id": "28fdffa5",
   "metadata": {},
   "outputs": [],
   "source": [
    "test_board = ['#','X','O','X','O','X','O','X','O','X']"
   ]
  },
  {
   "cell_type": "code",
   "execution_count": 87,
   "id": "403fcc8f",
   "metadata": {},
   "outputs": [
    {
     "name": "stdout",
     "output_type": "stream",
     "text": [
      "X | O | X\n",
      "--|---|--\n",
      "O | X | O\n",
      "--|---|--\n",
      "X | O | X\n"
     ]
    }
   ],
   "source": [
    "display_board(test_board)"
   ]
  },
  {
   "cell_type": "code",
   "execution_count": 88,
   "id": "820d49ff",
   "metadata": {},
   "outputs": [],
   "source": [
    "def player_input():\n",
    "    \n",
    "    marker = \"asd\"\n",
    "    \n",
    "    while marker.upper() not in ['X','O']:\n",
    "    \n",
    "        marker = input('Player 1: Choose X or O : ').upper() # remember to put .upper()\n",
    "         \n",
    "        if marker.upper() not in ['X','O']:\n",
    "            clear_output()\n",
    "            print('Please enter correct choice X / O')\n",
    "            \n",
    "    player1 = marker\n",
    "    \n",
    "    if player1 =='X':\n",
    "        \n",
    "        player2 = 'O'\n",
    "        \n",
    "    else:\n",
    "        player2 = 'X'\n",
    "    \n",
    "    \n",
    "    \n",
    "    return player1, player2"
   ]
  },
  {
   "cell_type": "code",
   "execution_count": 89,
   "id": "f38d43a9",
   "metadata": {},
   "outputs": [
    {
     "name": "stdout",
     "output_type": "stream",
     "text": [
      "Please enter correct choice X / O\n",
      "Player 1: Choose X or O : X\n"
     ]
    }
   ],
   "source": [
    "player1_marker,player2_marker = player_input()"
   ]
  },
  {
   "cell_type": "code",
   "execution_count": 90,
   "id": "eed53ced",
   "metadata": {},
   "outputs": [
    {
     "data": {
      "text/plain": [
       "'X'"
      ]
     },
     "execution_count": 90,
     "metadata": {},
     "output_type": "execute_result"
    }
   ],
   "source": [
    "player1_marker"
   ]
  },
  {
   "cell_type": "code",
   "execution_count": 91,
   "id": "59312347",
   "metadata": {},
   "outputs": [
    {
     "data": {
      "text/plain": [
       "'O'"
      ]
     },
     "execution_count": 91,
     "metadata": {},
     "output_type": "execute_result"
    }
   ],
   "source": [
    "player2_marker"
   ]
  },
  {
   "cell_type": "code",
   "execution_count": 92,
   "id": "64274409",
   "metadata": {},
   "outputs": [],
   "source": [
    "def place_marker(board, marker, position):\n",
    "    \n",
    "    board[position] = marker"
   ]
  },
  {
   "cell_type": "code",
   "execution_count": 93,
   "id": "4eb764a6",
   "metadata": {},
   "outputs": [
    {
     "name": "stdout",
     "output_type": "stream",
     "text": [
      "$ | O | X\n",
      "--|---|--\n",
      "O | X | O\n",
      "--|---|--\n",
      "X | O | X\n"
     ]
    }
   ],
   "source": [
    "place_marker(test_board,'$',7)\n",
    "display_board(test_board)"
   ]
  },
  {
   "cell_type": "code",
   "execution_count": 94,
   "id": "2fb61e5b",
   "metadata": {},
   "outputs": [],
   "source": [
    "def win_check(board, mark):\n",
    "    \n",
    "    return ((board[1] == mark and board[2] == mark and board[3] == mark)or\n",
    "       (board[4] == mark and board[5] == mark and board[6] == mark)or\n",
    "       (board[7] == mark and board[8] == mark and board[9] == mark)or\n",
    "       (board[1] == mark and board[4] == mark and board[7] == mark)or\n",
    "       (board[2] == mark and board[5] == mark and board[8] == mark)or\n",
    "       (board[3] == mark and board[6] == mark and board[9] == mark)or\n",
    "       (board[1] == mark and board[5] == mark and board[9] == mark)or\n",
    "       (board[3] == mark and board[5] == mark and board[7] == mark))"
   ]
  },
  {
   "cell_type": "code",
   "execution_count": 95,
   "id": "9590ee78",
   "metadata": {},
   "outputs": [
    {
     "data": {
      "text/plain": [
       "True"
      ]
     },
     "execution_count": 95,
     "metadata": {},
     "output_type": "execute_result"
    }
   ],
   "source": [
    "win_check(test_board,'X')"
   ]
  },
  {
   "cell_type": "code",
   "execution_count": 96,
   "id": "0d4ff33c",
   "metadata": {},
   "outputs": [],
   "source": [
    "import random"
   ]
  },
  {
   "cell_type": "code",
   "execution_count": 97,
   "id": "ed91f976",
   "metadata": {},
   "outputs": [],
   "source": [
    "def choose_first():\n",
    "    \n",
    "    flip = random.randint(0,1)\n",
    "    \n",
    "    if flip == 0:\n",
    "        return \"player 1\"\n",
    "    else:\n",
    "        return \"player 2\""
   ]
  },
  {
   "cell_type": "code",
   "execution_count": 98,
   "id": "59830a7b",
   "metadata": {},
   "outputs": [
    {
     "data": {
      "text/plain": [
       "'player 1'"
      ]
     },
     "execution_count": 98,
     "metadata": {},
     "output_type": "execute_result"
    }
   ],
   "source": [
    "choose_first()"
   ]
  },
  {
   "cell_type": "code",
   "execution_count": 99,
   "id": "917b9af7",
   "metadata": {},
   "outputs": [],
   "source": [
    "def space_check(board, position):\n",
    "    \n",
    "    return board[position] == ' '    "
   ]
  },
  {
   "cell_type": "code",
   "execution_count": 100,
   "id": "f0944b92",
   "metadata": {},
   "outputs": [
    {
     "data": {
      "text/plain": [
       "False"
      ]
     },
     "execution_count": 100,
     "metadata": {},
     "output_type": "execute_result"
    }
   ],
   "source": [
    "space_check(test_board,1)"
   ]
  },
  {
   "cell_type": "code",
   "execution_count": 101,
   "id": "d23f1da5",
   "metadata": {},
   "outputs": [
    {
     "name": "stdout",
     "output_type": "stream",
     "text": [
      "$ | O | X\n",
      "--|---|--\n",
      "O | X | O\n",
      "--|---|--\n",
      "X | O | X\n"
     ]
    }
   ],
   "source": [
    "display_board(test_board)"
   ]
  },
  {
   "cell_type": "code",
   "execution_count": 102,
   "id": "de29329c",
   "metadata": {},
   "outputs": [],
   "source": [
    "#######################################################NOTE#####################################################################\n",
    "def full_board_check(board):\n",
    "    for i in range(1,10):\n",
    "        if space_check(board,i): #if space_check(board,i) == ' ' WRONG!!!!\n",
    "            \n",
    "            # False if empty\n",
    "            return False\n",
    "        \n",
    "        # True If full\n",
    "    return True\n",
    "            "
   ]
  },
  {
   "cell_type": "code",
   "execution_count": 103,
   "id": "c2a04cf5",
   "metadata": {},
   "outputs": [
    {
     "data": {
      "text/plain": [
       "True"
      ]
     },
     "execution_count": 103,
     "metadata": {},
     "output_type": "execute_result"
    }
   ],
   "source": [
    "full_board_check(test_board)"
   ]
  },
  {
   "cell_type": "code",
   "execution_count": 104,
   "id": "59578ba5",
   "metadata": {},
   "outputs": [],
   "source": [
    "def player_choice(board):\n",
    "    \n",
    "    position = 0\n",
    "    \n",
    "    while position not in [1,2,3,4,5,6,7,8,9] or not space_check(board,position):\n",
    "        \n",
    "        position = int(input(\"Enter your next position (1-9): \"))\n",
    "            \n",
    "    return position"
   ]
  },
  {
   "cell_type": "code",
   "execution_count": null,
   "id": "cad43abf",
   "metadata": {},
   "outputs": [],
   "source": []
  },
  {
   "cell_type": "code",
   "execution_count": 105,
   "id": "8a070102",
   "metadata": {},
   "outputs": [],
   "source": [
    "def replay():\n",
    "    \n",
    "    choice = 'asd'\n",
    "    \n",
    "    while choice.upper() not in ['Y','N']:\n",
    "        \n",
    "        choice = input(\"Want to play Again Y / N: \").upper()\n",
    "        \n",
    "    if choice == 'Y':\n",
    "        return True\n",
    "    else:\n",
    "        return False"
   ]
  },
  {
   "cell_type": "code",
   "execution_count": 106,
   "id": "1ac5b076",
   "metadata": {},
   "outputs": [
    {
     "name": "stdout",
     "output_type": "stream",
     "text": [
      "Want to play Again Y / N: N\n"
     ]
    },
    {
     "data": {
      "text/plain": [
       "False"
      ]
     },
     "execution_count": 106,
     "metadata": {},
     "output_type": "execute_result"
    }
   ],
   "source": [
    "replay()"
   ]
  },
  {
   "cell_type": "code",
   "execution_count": 107,
   "id": "94efbed8",
   "metadata": {},
   "outputs": [
    {
     "name": "stdout",
     "output_type": "stream",
     "text": [
      "O | O | X\n",
      "--|---|--\n",
      "X | X | O\n",
      "--|---|--\n",
      "O | X | X\n",
      "Game Tie !\n",
      "Want to play Again Y / N: N\n"
     ]
    }
   ],
   "source": [
    "print(\"Welcome To The Tic Tac Toe Game !!\")\n",
    "\n",
    "#while True:\n",
    "while True:\n",
    "    \n",
    "    # Set the game up here\n",
    "    test_board = [' '] * 10\n",
    "    player1_marker, player2_marker = player_input()\n",
    "    \n",
    "    \n",
    "    turn = choose_first()\n",
    "    print(turn + ' Will Go First')\n",
    "    \n",
    "    play_game = input('Ready to play Yes/ No : ')\n",
    "    \n",
    "    if play_game.upper()[0] == 'Y':\n",
    "        game_on = True\n",
    "    else:\n",
    "        game_on = False\n",
    "        \n",
    "    #while game_on:\n",
    "    while game_on:\n",
    "        \n",
    "        if turn == 'player1':\n",
    "        #Player 1 Turn\n",
    "            \n",
    "            display_board(test_board)\n",
    "            position = player_choice(test_board)\n",
    "            place_marker(test_board, player1_marker, position)\n",
    "            \n",
    "            if win_check(test_board,player1_marker):\n",
    "                display_board(test_board)\n",
    "                print(\"CONGRATULATONS! PLayer 1 Has Won !\")\n",
    "                game_on = False\n",
    "                \n",
    "            else:\n",
    "                if full_board_check(test_board):\n",
    "                    display_board(test_board)\n",
    "                    print(\"Game Tie !\")\n",
    "                    break\n",
    "                else:\n",
    "                    turn = \"player2\"\n",
    "        \n",
    "        # Player2's turn.\n",
    "        else:\n",
    "            \n",
    "            \n",
    "            display_board(test_board)\n",
    "            position = player_choice(test_board)\n",
    "            place_marker(test_board, player2_marker, position)\n",
    "            \n",
    "            if win_check(test_board,player2_marker):\n",
    "                display_board(test_board)\n",
    "                print(\"CONGRATULATONS! Player 2 has WON!\")\n",
    "                game_on = False\n",
    "                \n",
    "            else:\n",
    "                if full_board_check(test_board):\n",
    "                    display_board(test_board)\n",
    "                    print(\"Game Tie !\")\n",
    "                    break\n",
    "                else:\n",
    "                    turn = \"player1\"\n",
    "                    \n",
    "    if not replay():\n",
    "        break"
   ]
  }
 ],
 "metadata": {
  "kernelspec": {
   "display_name": "Python 3 (ipykernel)",
   "language": "python",
   "name": "python3"
  },
  "language_info": {
   "codemirror_mode": {
    "name": "ipython",
    "version": 3
   },
   "file_extension": ".py",
   "mimetype": "text/x-python",
   "name": "python",
   "nbconvert_exporter": "python",
   "pygments_lexer": "ipython3",
   "version": "3.9.12"
  }
 },
 "nbformat": 4,
 "nbformat_minor": 5
}
